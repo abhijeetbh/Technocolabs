{
 "cells": [
  {
   "cell_type": "code",
   "execution_count": null,
   "id": "809f7e93-fd62-4242-8f67-fa151e992b70",
   "metadata": {},
   "outputs": [],
   "source": [
    "import pandas\n",
    "import warnings\n",
    "from networkx import visibility_graph\n",
    "from numba.np.npdatetime import add_constant\n",
    "from sklearn.linear_model import LogisticRegression\n",
    "from sphinx.addnodes import index, seealso\n",
    "from sympy.physics.quantum.matrixutils import sparse\n",
    "from sympy.stats.sampling.sample_numpy import numpy\n",
    "from twisted.internet.ssl import supported\n",
    "warnings.filterwarnings('ignore')\n",
    "from statsmodels.stats.outliers_influence import variance_inflation_factor"
   ]
  },
  {
   "cell_type": "code",
   "execution_count": null,
   "id": "8b2347df-cbc2-4397-89b7-4388c02c6233",
   "metadata": {},
   "outputs": [],
   "source": [
    "# We are using the dataset on which data preprocessing was performed in the previous tasks of the internship program\n",
    "df=pandas.read_csv('pro_1.csv')"
   ]
  },
  {
   "cell_type": "code",
   "execution_count": null,
   "id": "8af1aa5f-81d2-48b5-80a4-02dae6043b77",
   "metadata": {},
   "outputs": [],
   "source": [
    "# Our target variable is 'status' column. We have to classify a company as 'operating', 'acquired', 'ipo' or 'closed'\n",
    "# It is a classification model"
   ]
  },
  {
   "cell_type": "code",
   "execution_count": null,
   "id": "7960f30a-aa4a-4331-98dd-403d33b8663c",
   "metadata": {},
   "outputs": [],
   "source": [
    "# Understanding the dataset\n",
    "print('Number of rows : ',len(df))\n",
    "print('Number of columns : ',len(df.columns))\n",
    "print('All the features of the dataset : ')\n",
    "print(df.columns)\n",
    "print('Datatype of each feature : ')\n",
    "print(df.dtypes)\n",
    "print('Unique datatypes : ')\n",
    "print(df.dtypes.unique())\n",
    "fl=df.select_dtypes(include=float)\n",
    "bf=df.select_dtypes(include=bool)\n",
    "of=df.select_dtypes(object)\n",
    "print('Number of Float features : ',len(fl.columns))\n",
    "print('Number of Boolean features : ',len(bf.columns))\n",
    "print('Number of Object features : ',len(of.columns))"
   ]
  },
  {
   "cell_type": "code",
   "execution_count": null,
   "id": "e3bfa9a5-233c-4a91-a006-cc897bd63cac",
   "metadata": {},
   "outputs": [],
   "source": [
    "# Irrelevant features were removed in the previous tasks of the internship\n",
    "# This is a snippet from previous task\n",
    "# company = pandas.read_csv(\"companies.csv\")\n",
    "# company.drop('region',axis=1,inplace=True)\n",
    "# company.drop('city',axis=1,inplace=True)\n",
    "# company.drop(company.columns['Unnamed: 0.1', 'entity_type', 'entity_id', 'parent_id', 'created_by', 'created_at', 'updated_at'],axis=1,inplace=True)\n",
    "# company.drop(company.columns['domain','homepage_url', 'twitter_username', 'logo_url', 'logo_width', 'logo_height', 'short_description', 'description', 'overview', 'tag_list', 'name', 'normalized_name', 'permalink', 'invested_companies'],axis=1,inplace=True)"
   ]
  },
  {
   "cell_type": "code",
   "execution_count": null,
   "id": "3c9f6288-6548-4211-8e90-d21f895f6bf5",
   "metadata": {},
   "outputs": [],
   "source": [
    "# Handling multi collinearity\n",
    "# Removing features with high collinearity\n",
    "print(df.corr().to_string())\n",
    "df_for_cor=df.drop('status',axis=1)\n",
    "cm=df_for_cor.corr()\n",
    "mask=numpy.abs(cm)>=0.85\n",
    "numpy.fill_diagonal(mask.values,False)\n",
    "high_corr=[column for column in mask.columns if any(mask[column])]\n",
    "print(high_corr)"
   ]
  },
  {
   "cell_type": "code",
   "execution_count": null,
   "id": "93495b69-6ddf-446b-8041-9fd65c54d747",
   "metadata": {},
   "outputs": [],
   "source": [
    "# Variance Inflation Factor\n",
    "bf=df.select_dtypes(include=bool)\n",
    "b_cols=bf.columns.values\n",
    "print(b_cols)\n",
    "df_for_vif=df.drop(b_cols,axis=1)\n",
    "df_for_vif.drop('isClosed',axis=1,inplace=True)\n",
    "df_for_vif.dropna(inplace=True)\n",
    "print(df_for_vif.head(10).to_string())\n",
    "vif_vals=pandas.Series([variance_inflation_factor(df_for_vif.values,i) for i in range(df_for_vif.shape[1])], index=df_for_vif.columns)\n",
    "vif_vals=vif_vals/pow(10,6)\n",
    "print(vif_vals)\n",
    "print(vif_vals[vif_vals>8])"
   ]
  },
  {
   "cell_type": "code",
   "execution_count": null,
   "id": "7f5ff98c-b86e-4752-9763-7191316f248a",
   "metadata": {},
   "outputs": [],
   "source": [
    "# Mutual Information to understand which features are important\n",
    "new_df=pandas.read_csv('pro_1.csv')\n",
    "new_df=new_df.replace({True:1,False:0})\n",
    "new_df.drop('active_days',axis=1,inplace=True)\n",
    "X=new_df.drop('status', axis=1)\n",
    "Y=new_df['status']\n",
    "from sklearn.feature_selection import mutual_info_classif\n",
    "mi=mutual_info_classif(X,Y,discrete_features=True)\n",
    "mi_df=pandas.DataFrame({'Feature': X.columns, 'Mutual Information':mi})\n",
    "print(mi_df.to_string())"
   ]
  },
  {
   "cell_type": "code",
   "execution_count": null,
   "id": "55642434-cc36-433d-bd74-a81848f3644c",
   "metadata": {},
   "outputs": [],
   "source": [
    "# Random Forest Feature Selection via Permutation Importance\n",
    "from sklearn.model_selection import train_test_split\n",
    "x_train, x_test, y_train, y_test = train_test_split(X,Y,train_size=0.8)\n",
    "from sklearn.ensemble import RandomForestClassifier\n",
    "rf=RandomForestClassifier()\n",
    "rf.fit(x_train,y_train)\n",
    "importances=rf.feature_importances_\n",
    "per_imp=pandas.DataFrame({\n",
    "    'Feature':X.columns,\n",
    "    'Permutation Importance':importances\n",
    "})\n",
    "print(per_imp.sort_values(by='Permutation Importance',ascending=False))"
   ]
  },
  {
   "cell_type": "code",
   "execution_count": null,
   "id": "c20934be-4f00-42be-a3db-0c65f5d9464c",
   "metadata": {},
   "outputs": [],
   "source": [
    "# Min Max Scaling\n",
    "from sklearn.preprocessing import MinMaxScaler\n",
    "scaler=MinMaxScaler()\n",
    "x_scaled=scaler.fit_transform(X)\n",
    "x_scaled_df=pandas.DataFrame(x_scaled,columns=X.columns)\n",
    "print(x_scaled_df)"
   ]
  },
  {
   "cell_type": "code",
   "execution_count": null,
   "id": "a50116a0-af00-4d6c-9ea7-a9b4896cd931",
   "metadata": {},
   "outputs": [],
   "source": [
    "# Log Transformation\n",
    "X_log_transformed = X.apply(lambda x: numpy.log(x + 1))\n",
    "l_t_df=pandas.DataFrame(X_log_transformed, columns=X.columns)\n",
    "print(l_t_df)"
   ]
  },
  {
   "cell_type": "code",
   "execution_count": null,
   "id": "46a752e5-ac23-4120-b1ed-46373698a51f",
   "metadata": {},
   "outputs": [],
   "source": [
    "# Robust Scaling\n",
    "from sklearn.preprocessing import RobustScaler\n",
    "rs=RobustScaler()\n",
    "X_robust_scaled=rs.fit_transform(X)\n",
    "X_robust_scaled_df=pandas.DataFrame(X_robust_scaled,columns=X.columns)\n",
    "print(X_robust_scaled_df)"
   ]
  },
  {
   "cell_type": "code",
   "execution_count": null,
   "id": "f02e4cb1-aa05-4659-a730-2e663e6d7ee5",
   "metadata": {},
   "outputs": [],
   "source": [
    "# PCA\n",
    "from sklearn.decomposition import PCA\n",
    "pca = PCA(n_components=0.95)\n",
    "x_pcad=pca.fit_transform(x_scaled)\n",
    "print(x_pcad)"
   ]
  },
  {
   "cell_type": "code",
   "execution_count": null,
   "id": "d00baef6-88d4-4b92-bf3c-b660356bede2",
   "metadata": {},
   "outputs": [],
   "source": []
  }
 ],
 "metadata": {
  "kernelspec": {
   "display_name": "Python 3 (ipykernel)",
   "language": "python",
   "name": "python3"
  },
  "language_info": {
   "codemirror_mode": {
    "name": "ipython",
    "version": 3
   },
   "file_extension": ".py",
   "mimetype": "text/x-python",
   "name": "python",
   "nbconvert_exporter": "python",
   "pygments_lexer": "ipython3",
   "version": "3.12.4"
  }
 },
 "nbformat": 4,
 "nbformat_minor": 5
}
